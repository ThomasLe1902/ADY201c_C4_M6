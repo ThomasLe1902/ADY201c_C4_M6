{
 "cells": [
  {
   "cell_type": "markdown",
   "id": "03ec511d-e212-4905-8c28-bab04424a21b",
   "metadata": {},
   "source": [
    "<h1>Data Science Tools and Ecosystem</h1>"
   ]
  },
  {
   "cell_type": "markdown",
   "id": "4c2c4eaf-78a9-4655-ac2b-9b1919301ff3",
   "metadata": {},
   "source": [
    "<p>In this notebook, Data Science Tools and Ecosystem are summarized.</p>"
   ]
  },
  {
   "cell_type": "markdown",
   "id": "e00a91b7-53b3-4666-9b0a-8a8a30d5cf6b",
   "metadata": {},
   "source": [
    "<ol>Some of the popular languages that Data Scientists use are:\n",
    "    <li>R</li>\n",
    "    <li>Python</li>\n",
    "    <li>SQL</li>\n",
    "</ol>"
   ]
  },
  {
   "cell_type": "markdown",
   "id": "b117bdcc-ce9e-4815-b741-666c04aece11",
   "metadata": {},
   "source": [
    "<ol>Some of the commonly used libraries used by Data Scientists include:\n",
    "    <li>Matplotlib</li>\n",
    "    <li>Seaborn</li>\n",
    "    <li>SQLite3</li>\n",
    "    <li>Numpy</li>\n",
    "    <li>Pandas</li>\n",
    "</ol>"
   ]
  },
  {
   "cell_type": "markdown",
   "id": "202172f8-6e00-439c-a735-a39539a64e68",
   "metadata": {
    "tags": []
   },
   "source": [
    "| Data Science tools |\n",
    "|--------------------|\n",
    "| Git                |\n",
    "| Eclipse            |\n",
    "| Apache HttpClient  |"
   ]
  },
  {
   "cell_type": "markdown",
   "id": "6e303fd0-0e7f-4b75-8a32-88fe832a45c3",
   "metadata": {},
   "source": [
    "Below are a few examples of evaluating arithmetic expressions in Python"
   ]
  },
  {
   "cell_type": "code",
   "execution_count": null,
   "id": "888c91da-b88b-4c6a-bde7-01f2c2578dc9",
   "metadata": {},
   "outputs": [],
   "source": [
    "print(\""
   ]
  }
 ],
 "metadata": {
  "kernelspec": {
   "display_name": "Python",
   "language": "python",
   "name": "conda-env-python-py"
  },
  "language_info": {
   "codemirror_mode": {
    "name": "ipython",
    "version": 3
   },
   "file_extension": ".py",
   "mimetype": "text/x-python",
   "name": "python",
   "nbconvert_exporter": "python",
   "pygments_lexer": "ipython3",
   "version": "3.7.12"
  }
 },
 "nbformat": 4,
 "nbformat_minor": 5
}
